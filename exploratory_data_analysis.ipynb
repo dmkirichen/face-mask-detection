{
 "cells": [
  {
   "cell_type": "code",
   "execution_count": 1,
   "metadata": {},
   "outputs": [],
   "source": [
    "import os\n",
    "import os.path\n",
    "from xml.etree.ElementTree import parse"
   ]
  },
  {
   "cell_type": "code",
   "execution_count": 2,
   "metadata": {},
   "outputs": [],
   "source": [
    "def process_xml_annotation(xml_file_name):\n",
    "    \"\"\"Extract information from annotation xml file of the photo.\n",
    "    \n",
    "    Keyword arguments:\n",
    "    xml_file_name -- path to the xml file\n",
    "    \"\"\"    \n",
    "    doc = parse(xml_file_name)\n",
    "    \n",
    "    # Get meta parameters from annotation\n",
    "    folder_arg = doc.findtext(\"folder\")\n",
    "    filename_arg = doc.findtext(\"filename\")\n",
    "    segmented_arg = doc.findtext(\"segmented\")\n",
    "    \n",
    "    # Get size dimensions of the picture\n",
    "    size_obj = doc.find(\"size\")\n",
    "    width_arg = int(size_obj.findtext(\"width\"))\n",
    "    height_arg = int(size_obj.findtext(\"height\"))\n",
    "    depth_arg = int(size_obj.findtext(\"depth\"))\n",
    "    \n",
    "    # Iterate through all objects\n",
    "    objects = []\n",
    "    for obj in doc.findall(\"object\"):\n",
    "        name_arg = obj.findtext(\"name\")\n",
    "        pose_arg = obj.findtext(\"pose\")\n",
    "        occluded_arg = obj.findtext(\"occluded\")        \n",
    "        truncated_arg = obj.findtext(\"truncated\")\n",
    "        difficult_arg = obj.findtext(\"difficult\")\n",
    "        \n",
    "        # Get the coordinates of the box\n",
    "        bndbox_obj = obj.find(\"bndbox\")\n",
    "        xmin_arg = int(bndbox_obj.findtext(\"xmin\"))\n",
    "        xmax_arg = int(bndbox_obj.findtext(\"xmax\"))\n",
    "        ymin_arg = int(bndbox_obj.findtext(\"ymin\"))\n",
    "        ymax_arg = int(bndbox_obj.findtext(\"ymax\"))\n",
    "        \n",
    "        objects.append((name_arg, pose_arg, occluded_arg, truncated_arg, difficult_arg,\n",
    "                        (xmin_arg, ymin_arg), (xmax_arg, ymax_arg)))\n",
    "    return (folder_arg, filename_arg, segmented_arg,\n",
    "            (width_arg, height_arg, depth_arg), objects)"
   ]
  },
  {
   "cell_type": "code",
   "execution_count": 3,
   "metadata": {},
   "outputs": [
    {
     "data": {
      "text/plain": [
       "('images',\n",
       " 'maksssksksss0.png',\n",
       " '0',\n",
       " (512, 366, 3),\n",
       " [('without_mask', 'Unspecified', '0', '0', '0', (79, 105), (109, 142)),\n",
       "  ('with_mask', 'Unspecified', '0', '0', '0', (185, 100), (226, 144)),\n",
       "  ('without_mask', 'Unspecified', '0', '0', '0', (325, 90), (360, 141))])"
      ]
     },
     "execution_count": 3,
     "metadata": {},
     "output_type": "execute_result"
    }
   ],
   "source": [
    "process_xml_annotation(\"./data/annotations/maksssksksss0.xml\")"
   ]
  },
  {
   "cell_type": "code",
   "execution_count": null,
   "metadata": {},
   "outputs": [],
   "source": []
  }
 ],
 "metadata": {
  "kernelspec": {
   "display_name": "Python 3",
   "language": "python",
   "name": "python3"
  },
  "language_info": {
   "codemirror_mode": {
    "name": "ipython",
    "version": 3
   },
   "file_extension": ".py",
   "mimetype": "text/x-python",
   "name": "python",
   "nbconvert_exporter": "python",
   "pygments_lexer": "ipython3",
   "version": "3.8.2"
  }
 },
 "nbformat": 4,
 "nbformat_minor": 4
}
