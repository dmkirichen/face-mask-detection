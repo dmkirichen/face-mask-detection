{
 "cells": [
  {
   "cell_type": "code",
   "execution_count": 1,
   "metadata": {},
   "outputs": [],
   "source": [
    "import os\n",
    "import os.path\n",
    "from natsort import natsorted"
   ]
  },
  {
   "cell_type": "code",
   "execution_count": null,
   "metadata": {},
   "outputs": [],
   "source": [
    "DATA_FOLDER = \"./data/\"\n",
    "label_to_color = {\"with_mask\": \"g\", \"mask_weared_incorrect\": \"y\", \"without_mask\": \"r\"}\n",
    "image_folder = os.path.join(DATA_FOLDER, \"images\")\n",
    "annot_folder = os.path.join(DATA_FOLDER, \"annotations\")\n",
    "image_paths = natsorted([os.path.join(image_folder, image_name) \n",
    "                      for image_name in os.listdir(image_folder)])\n",
    "annot_paths = natsorted([os.path.join(annot_folder, annot_name)\n",
    "                      for annot_name in os.listdir(annot_folder)])\n",
    "\n",
    "print(f\"example of image file path: {image_paths[0]}\")\n",
    "print(f\"example of annotation file path: {annot_paths[0]}\")"
   ]
  },
  {
   "cell_type": "code",
   "execution_count": null,
   "metadata": {},
   "outputs": [],
   "source": []
  }
 ],
 "metadata": {
  "kernelspec": {
   "display_name": "Python 3",
   "language": "python",
   "name": "python3"
  },
  "language_info": {
   "codemirror_mode": {
    "name": "ipython",
    "version": 3
   },
   "file_extension": ".py",
   "mimetype": "text/x-python",
   "name": "python",
   "nbconvert_exporter": "python",
   "pygments_lexer": "ipython3",
   "version": "3.8.2"
  }
 },
 "nbformat": 4,
 "nbformat_minor": 4
}
