{
 "cells": [
  {
   "cell_type": "code",
   "execution_count": 1,
   "metadata": {},
   "outputs": [],
   "source": [
    "import os\n",
    "import os.path\n",
    "import random\n",
    "from natsort import natsorted\n",
    "from utils import *"
   ]
  },
  {
   "cell_type": "code",
   "execution_count": 2,
   "metadata": {},
   "outputs": [
    {
     "name": "stdout",
     "output_type": "stream",
     "text": [
      "example of image file path: ./data/images/maksssksksss0.png\n",
      "example of annotation file path: ./data/annotations/maksssksksss0.xml\n"
     ]
    }
   ],
   "source": [
    "DATA_FOLDER = \"./data/\"\n",
    "label_to_color = {\"with_mask\": \"g\", \"mask_weared_incorrect\": \"y\", \"without_mask\": \"r\"}\n",
    "image_folder = os.path.join(DATA_FOLDER, \"images\")\n",
    "annot_folder = os.path.join(DATA_FOLDER, \"annotations\")\n",
    "image_paths = natsorted([os.path.join(image_folder, image_name) \n",
    "                      for image_name in os.listdir(image_folder)])\n",
    "annot_paths = natsorted([os.path.join(annot_folder, annot_name)\n",
    "                      for annot_name in os.listdir(annot_folder)])\n",
    "\n",
    "print(f\"example of image file path: {image_paths[0]}\")\n",
    "print(f\"example of annotation file path: {annot_paths[0]}\")"
   ]
  },
  {
   "cell_type": "code",
   "execution_count": 3,
   "metadata": {},
   "outputs": [],
   "source": [
    "# Splitting data for training, validation and testing phases\n",
    "num_images = len(image_paths)\n",
    "random.seed(42)\n",
    "train_val_split = (0.8, 0.1)\n",
    "train_idxs, val_idxs, test_idxs = [], [], []\n",
    "\n",
    "# Choose random indices for every share of the data\n",
    "for idx in range(num_images):\n",
    "    val = random.random()\n",
    "    if val < train_val_split[0]:\n",
    "        train_idxs.append(idx)\n",
    "    elif val < train_val_split[0] + train_val_split[1]:\n",
    "        val_idxs.append(idx)\n",
    "    else:\n",
    "        test_idxs.append(idx)\n",
    "        \n",
    "assert(set() == (set(train_idxs) & set(val_idxs))), \"train and val contain mutual idx\"\n",
    "assert(set() == (set(val_idxs) & set(test_idxs))), \"val and test contain mutual idx\"\n",
    "assert(set() == (set(train_idxs) & set(test_idxs))), \"train and test contain mutual idx\""
   ]
  },
  {
   "cell_type": "code",
   "execution_count": null,
   "metadata": {},
   "outputs": [],
   "source": [
    "train_dataset = FaceMaskDataset(DATA_FOLDER, idxs=train_idxs)\n",
    "print(train_dataset)"
   ]
  },
  {
   "cell_type": "code",
   "execution_count": null,
   "metadata": {},
   "outputs": [],
   "source": [
    "max(train_idxs)"
   ]
  },
  {
   "cell_type": "code",
   "execution_count": null,
   "metadata": {},
   "outputs": [],
   "source": [
    "len(image_paths)"
   ]
  },
  {
   "cell_type": "code",
   "execution_count": null,
   "metadata": {},
   "outputs": [],
   "source": []
  }
 ],
 "metadata": {
  "kernelspec": {
   "display_name": "Python 3",
   "language": "python",
   "name": "python3"
  },
  "language_info": {
   "codemirror_mode": {
    "name": "ipython",
    "version": 3
   },
   "file_extension": ".py",
   "mimetype": "text/x-python",
   "name": "python",
   "nbconvert_exporter": "python",
   "pygments_lexer": "ipython3",
   "version": "3.8.2"
  }
 },
 "nbformat": 4,
 "nbformat_minor": 4
}
